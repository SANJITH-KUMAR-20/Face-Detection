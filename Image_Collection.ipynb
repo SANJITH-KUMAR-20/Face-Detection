{
 "cells": [
  {
   "cell_type": "code",
   "execution_count": 1,
   "metadata": {},
   "outputs": [],
   "source": [
    "import os\n",
    "import time\n",
    "import uuid\n",
    "import cv2 as cv"
   ]
  },
  {
   "cell_type": "code",
   "execution_count": 2,
   "metadata": {},
   "outputs": [],
   "source": [
    "Img_path = os.path.join('data','images')\n",
    "num_of_imgs = 20"
   ]
  },
  {
   "cell_type": "code",
   "execution_count": 8,
   "metadata": {},
   "outputs": [
    {
     "name": "stdout",
     "output_type": "stream",
     "text": [
      "Col imgs 0\n",
      "Col imgs 1\n",
      "Col imgs 2\n",
      "Col imgs 3\n",
      "Col imgs 4\n",
      "Col imgs 5\n",
      "Col imgs 6\n",
      "Col imgs 7\n",
      "Col imgs 8\n",
      "Col imgs 9\n",
      "Col imgs 10\n",
      "Col imgs 11\n",
      "Col imgs 12\n",
      "Col imgs 13\n",
      "Col imgs 14\n",
      "Col imgs 15\n",
      "Col imgs 16\n",
      "Col imgs 17\n",
      "Col imgs 18\n",
      "Col imgs 19\n"
     ]
    }
   ],
   "source": [
    "cap  =  cv.VideoCapture(0)\n",
    "for inmg in range(num_of_imgs):\n",
    "    print('Col imgs {}'.format(inmg))\n",
    "    ret,frame = cap.read()\n",
    "    imgname = os.path.join(Img_path,f'{str(uuid.uuid1())}.jpg')\n",
    "    cv.imwrite(imgname,frame)\n",
    "    cv.imshow('frame',frame)\n",
    "    time.sleep(1)\n",
    "\n",
    "    if cv.waitKey(1) and 0xFF == ord('q'):\n",
    "        break\n",
    "cap.release()\n",
    "cv.destroyAllWindows()"
   ]
  },
  {
   "cell_type": "code",
   "execution_count": 9,
   "metadata": {},
   "outputs": [],
   "source": [
    "!labelme"
   ]
  },
  {
   "cell_type": "code",
   "execution_count": null,
   "metadata": {},
   "outputs": [],
   "source": []
  }
 ],
 "metadata": {
  "kernelspec": {
   "display_name": "Python 3",
   "language": "python",
   "name": "python3"
  },
  "language_info": {
   "codemirror_mode": {
    "name": "ipython",
    "version": 3
   },
   "file_extension": ".py",
   "mimetype": "text/x-python",
   "name": "python",
   "nbconvert_exporter": "python",
   "pygments_lexer": "ipython3",
   "version": "3.10.8"
  },
  "orig_nbformat": 4,
  "vscode": {
   "interpreter": {
    "hash": "9b4d75ac280b6c7c3aa43866cb82dc88915409b55fec83a093dd0284cb58708e"
   }
  }
 },
 "nbformat": 4,
 "nbformat_minor": 2
}
