{
 "cells": [
  {
   "cell_type": "code",
   "execution_count": null,
   "id": "8da23af0",
   "metadata": {},
   "outputs": [],
   "source": [
    "import tensorflow as tf\n",
    "import cv2 as cv\n",
    "import json\n",
    "import numpy as np\n",
    "import matplotlib.pyplot as plt\n",
    "import os"
   ]
  },
  {
   "cell_type": "code",
   "execution_count": null,
   "id": "b262637d",
   "metadata": {},
   "outputs": [],
   "source": [
    "tf.config.list_physical_devices('GPU')"
   ]
  },
  {
   "cell_type": "code",
   "execution_count": null,
   "id": "d45ed926",
   "metadata": {},
   "outputs": [],
   "source": [
    "images = tf.data.Dataset.list_files('data\\\\images\\\\*.jpg',shuffle = False)"
   ]
  },
  {
   "cell_type": "code",
   "execution_count": null,
   "id": "301ec834",
   "metadata": {},
   "outputs": [],
   "source": [
    "images.as_numpy_iterator().next()"
   ]
  },
  {
   "cell_type": "code",
   "execution_count": null,
   "id": "01505464",
   "metadata": {},
   "outputs": [],
   "source": [
    "def byte_to_img(x):\n",
    "    byteimg = tf.io.read_file(x)\n",
    "    return tf.io.decode_jpeg(byteimg)"
   ]
  },
  {
   "cell_type": "code",
   "execution_count": null,
   "id": "1074d893",
   "metadata": {},
   "outputs": [],
   "source": [
    "images = images.map(byte_to_img)"
   ]
  },
  {
   "cell_type": "code",
   "execution_count": null,
   "id": "1558e68d",
   "metadata": {},
   "outputs": [],
   "source": [
    "images.as_numpy_iterator().next()"
   ]
  },
  {
   "cell_type": "code",
   "execution_count": null,
   "id": "b287f940",
   "metadata": {},
   "outputs": [],
   "source": [
    "image_generator = images.batch(4).as_numpy_iterator()"
   ]
  },
  {
   "cell_type": "code",
   "execution_count": null,
   "id": "b2df8e7d",
   "metadata": {},
   "outputs": [],
   "source": [
    "imgs = image_generator.next()"
   ]
  },
  {
   "cell_type": "code",
   "execution_count": null,
   "id": "cf96df7c",
   "metadata": {},
   "outputs": [],
   "source": [
    "fig,ax = plt.subplots(ncols = 4,figsize =(20,20))\n",
    "for i,j in enumerate(imgs):\n",
    "    ax[i].imshow(j)\n",
    "plt.show()"
   ]
  },
  {
   "cell_type": "code",
   "execution_count": null,
   "id": "f6955715",
   "metadata": {},
   "outputs": [],
   "source": [
    "dirs = ['Train','Test','Val']\n",
    "subdirs = ['images','labels']\n",
    "for i in dirs:\n",
    "    for j in subdirs:\n",
    "        os.makedirs(\".\\\\data\\\\{}\\\\{}\".format(i,j))"
   ]
  },
  {
   "cell_type": "code",
   "execution_count": null,
   "id": "fd31c211",
   "metadata": {},
   "outputs": [],
   "source": [
    "l = []\n",
    "for i,j in zip(os.listdir(\".\\\\data\\\\images\"),os.listdir(\".\\\\data\\\\labels\")):\n",
    "    if i!=j:\n",
    "        l.append(i)"
   ]
  },
  {
   "cell_type": "code",
   "execution_count": null,
   "id": "3b2c9b68",
   "metadata": {},
   "outputs": [],
   "source": [
    "l"
   ]
  },
  {
   "cell_type": "code",
   "execution_count": null,
   "id": "0926ea5c",
   "metadata": {},
   "outputs": [],
   "source": [
    "for x in dirs:\n",
    "    for i in os.listdir(os.path.join('data',x,'images')):\n",
    "        filename = i.split('.')[0]+'.json'\n",
    "        filpath = os.path.join('data','labels',filename)\n",
    "        if os.path.exists(filpath):\n",
    "            newpath = os.path.join('data',x,'labels',filename)\n",
    "            os.replace(filpath,newpath)"
   ]
  },
  {
   "cell_type": "code",
   "execution_count": null,
   "id": "96782c3f",
   "metadata": {},
   "outputs": [],
   "source": []
  }
 ],
 "metadata": {
  "kernelspec": {
   "display_name": "Python 3 (ipykernel)",
   "language": "python",
   "name": "python3"
  },
  "language_info": {
   "codemirror_mode": {
    "name": "ipython",
    "version": 3
   },
   "file_extension": ".py",
   "mimetype": "text/x-python",
   "name": "python",
   "nbconvert_exporter": "python",
   "pygments_lexer": "ipython3",
   "version": "3.10.8"
  }
 },
 "nbformat": 4,
 "nbformat_minor": 5
}
