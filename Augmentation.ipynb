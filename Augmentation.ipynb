{
 "cells": [
  {
   "cell_type": "code",
   "execution_count": null,
   "metadata": {},
   "outputs": [],
   "source": [
    "import albumentations as alb\n",
    "import tensorflow as tf\n",
    "import os\n",
    "import cv2 as cv\n",
    "import numpy as np\n",
    "import json\n",
    "import matplotlib.pyplot as plt"
   ]
  },
  {
   "cell_type": "code",
   "execution_count": null,
   "metadata": {},
   "outputs": [],
   "source": [
    "augmentation = alb.Compose([alb.RandomCrop(width=450,height=450),\n",
    "                            alb.HorizontalFlip(p=0.5),\n",
    "                            alb.RandomBrightnessContrast(p=0.2),\n",
    "                            alb.RandomGamma(p=0.2),\n",
    "                            alb.RGBShift(p=0.2),\n",
    "                            alb.VerticalFlip(p=0.5),\n",
    "                            alb.VerticalFlip(p=0.5)],\n",
    "                            bbox_params=alb.BboxParams(format='albumentations',\n",
    "                                                       label_fields=['class_labels']))"
   ]
  },
  {
   "cell_type": "code",
   "execution_count": null,
   "metadata": {},
   "outputs": [],
   "source": [
    "img = cv.imread(\"C:\\\\Users\\\\sanji\\\\Desktop\\\\OBJECT_DETECTION\\\\data\\\\Train\\\\images\\\\5a588da4-be64-11ed-9c24-c49dacf3fc5b.jpg\")"
   ]
  },
  {
   "cell_type": "code",
   "execution_count": null,
   "metadata": {},
   "outputs": [],
   "source": [
    "with open(\"C:\\\\Users\\\\sanji\\\\Desktop\\\\OBJECT_DETECTION\\\\data\\\\Train\\\\labels\\\\5a588da4-be64-11ed-9c24-c49dacf3fc5b.json\") as f:\n",
    "    i = json.load(f)"
   ]
  },
  {
   "cell_type": "code",
   "execution_count": null,
   "metadata": {},
   "outputs": [],
   "source": [
    "i"
   ]
  },
  {
   "cell_type": "code",
   "execution_count": null,
   "metadata": {},
   "outputs": [],
   "source": [
    "coord = [0,0,0,0]\n",
    "coord[0] = i['shapes'][0]['points'][0][0]\n",
    "coord[1] = i['shapes'][0]['points'][0][1]\n",
    "coord[2] = i['shapes'][0]['points'][1][0]\n",
    "coord[3] = i['shapes'][0]['points'][1][1]"
   ]
  },
  {
   "cell_type": "code",
   "execution_count": null,
   "metadata": {},
   "outputs": [],
   "source": [
    "coord"
   ]
  },
  {
   "cell_type": "code",
   "execution_count": null,
   "metadata": {},
   "outputs": [],
   "source": [
    "coords = list(np.divide(coord,[640,480,640,480]))"
   ]
  },
  {
   "cell_type": "code",
   "execution_count": null,
   "metadata": {},
   "outputs": [],
   "source": [
    "coords"
   ]
  },
  {
   "cell_type": "code",
   "execution_count": null,
   "metadata": {},
   "outputs": [],
   "source": [
    "augmented = augmentation(image = img,bboxes=[coords],class_labels=['Face'])"
   ]
  },
  {
   "cell_type": "code",
   "execution_count": null,
   "metadata": {},
   "outputs": [],
   "source": [
    "augmented"
   ]
  },
  {
   "cell_type": "code",
   "execution_count": null,
   "metadata": {},
   "outputs": [],
   "source": [
    "cv.rectangle(augmented['image'],tuple(np.multiply(augmented['bboxes'][0][:2],[450,450]).astype(int)),\n",
    "             tuple(np.multiply(augmented['bboxes'][0][2:],[450,450]).astype(int)),\n",
    "             (0,255,0),2)\n",
    "plt.imshow(augmented['image'])"
   ]
  },
  {
   "cell_type": "code",
   "execution_count": null,
   "metadata": {},
   "outputs": [],
   "source": [
    "dirs = ['Train','Test','Val']\n",
    "for i in dirs:\n",
    "    for img in os.listdir(os.path.join('data',i,'images')):\n",
    "        image = cv.imread(os.path.join('data',i,'images',img))\n",
    "        coords = [0,0,0.00001,0.00001]\n",
    "        label_path = \".\\\\data\\\\{}\\\\lables\\\\{}\".format(i,img.split(\".\")[0]+\".json\")\n",
    "        if os.path.exists(label_path):\n",
    "            with open(label_path,'r') as f:\n",
    "                label = json.load(f)\n",
    "            coord = [0,0,0,0]\n",
    "            coord[0] = label['shapes'][0]['points'][0][0]\n",
    "            coord[1] = label['shapes'][0]['points'][0][1]\n",
    "            coord[2] = label['shapes'][0]['points'][1][0]\n",
    "            coord[3] = label['shapes'][0]['points'][1][1]\n",
    "            coord = list(np.divide(coords,[640,480,640,480]))\n",
    "        try:\n",
    "            for k in range(60):\n",
    "                augmented = augmentation(image=image,bboxes=[coord],class_labels = ['Face'])\n",
    "                cv.imwrite(os.path.join('augm_data',i,'images',f'{img.split(\".\")[0]}.{k}.jpg'),augmented['image'])\n",
    "\n",
    "                annotation = {}\n",
    "                annotation['image'] = img\n",
    "\n",
    "                if os.path.exists(label_path):\n",
    "                    if len(augmented['bboxes']) == 0:\n",
    "                        annotation['bbox'] = [0,0,0,0]\n",
    "                        annotation['class'] = 0\n",
    "                    else:\n",
    "                        annotation['bbox'] = augmented['bboxes'][0]\n",
    "                        annotation['class'] = 1\n",
    "                else:\n",
    "                        annotation['bbox'] = [0,0,0,0]\n",
    "                        annotation['class'] = 0\n",
    "                with open(os.path.join('augm_data',i,'labels',f'{img.split(\".\")[0]}.{k}.json'),'w') as f:\n",
    "                    json.dump(annotation,f)\n",
    "        except Exception as e:\n",
    "            print(e)"
   ]
  }
 ],
 "metadata": {
  "kernelspec": {
   "display_name": "Python 3",
   "language": "python",
   "name": "python3"
  },
  "language_info": {
   "codemirror_mode": {
    "name": "ipython",
    "version": 3
   },
   "file_extension": ".py",
   "mimetype": "text/x-python",
   "name": "python",
   "nbconvert_exporter": "python",
   "pygments_lexer": "ipython3",
   "version": "3.10.8"
  },
  "orig_nbformat": 4
 },
 "nbformat": 4,
 "nbformat_minor": 2
}
